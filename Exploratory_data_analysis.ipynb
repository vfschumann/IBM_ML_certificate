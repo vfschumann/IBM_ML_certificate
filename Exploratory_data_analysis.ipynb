{
 "cells": [
  {
   "cell_type": "markdown",
   "metadata": {
    "collapsed": true,
    "pycharm": {
     "name": "#%% md\n"
    }
   },
   "source": [
    "# Exploratotry Data analysis for Machine Learning\n",
    "## Retrieving data\n",
    "### Reading CSV files"
   ]
  },
  {
   "cell_type": "code",
   "source": [
    "# get the iris dataset\n",
    "!mkdir data\n",
    "!wget https://gist.githubusercontent.com/netj/8836201/raw/6f9306ad21398ea43cba4f7d537619d0e07d5ae3/iris.csv -O data/iris_data.csv"
   ],
   "metadata": {
    "collapsed": false,
    "pycharm": {
     "name": "#%%\n"
    }
   },
   "execution_count": 28,
   "outputs": [
    {
     "name": "stdout",
     "output_type": "stream",
     "text": [
      "mkdir: cannot create directory ‘data’: File exists\r\n",
      "--2021-11-13 14:25:14--  https://gist.githubusercontent.com/netj/8836201/raw/6f9306ad21398ea43cba4f7d537619d0e07d5ae3/iris.csv\r\n",
      "Resolving gist.githubusercontent.com (gist.githubusercontent.com)... 185.199.109.133, 185.199.108.133, 185.199.111.133, ...\r\n",
      "Connecting to gist.githubusercontent.com (gist.githubusercontent.com)|185.199.109.133|:443... connected.\r\n",
      "HTTP request sent, awaiting response... 200 OK\r\n",
      "Length: 3975 (3.9K) [text/plain]\r\n",
      "Saving to: ‘data/iris_data.csv’\r\n",
      "\r\n",
      "data/iris_data.csv  100%[===================>]   3.88K  --.-KB/s    in 0s      \r\n",
      "\r\n",
      "2021-11-13 14:25:14 (38.4 MB/s) - ‘data/iris_data.csv’ saved [3975/3975]\r\n",
      "\r\n"
     ]
    }
   ]
  },
  {
   "cell_type": "code",
   "execution_count": 3,
   "outputs": [
    {
     "name": "stdout",
     "output_type": "stream",
     "text": [
      "   sepal.length  sepal.width  petal.length  petal.width variety\n",
      "0           5.1          3.5           1.4          0.2  Setosa\n",
      "1           4.9          3.0           1.4          0.2  Setosa\n",
      "2           4.7          3.2           1.3          0.2  Setosa\n",
      "3           4.6          3.1           1.5          0.2  Setosa\n",
      "4           5.0          3.6           1.4          0.2  Setosa\n"
     ]
    }
   ],
   "source": [
    "import pandas as pd\n",
    "filepath = \"data/iris_data.csv\"\n",
    "\n",
    "# Import data\n",
    "data = pd.read_csv(filepath)\n",
    "\n",
    "# Print a few rows\n",
    "print(data.iloc[:5])"
   ],
   "metadata": {
    "collapsed": false,
    "pycharm": {
     "name": "#%%\n"
    }
   }
  },
  {
   "cell_type": "code",
   "execution_count": 29,
   "outputs": [
    {
     "data": {
      "text/plain": "Empty DataFrame\nColumns: [{\"message\": \"success\", \"people\": [{\"name\": \"Mark Vande Hei\", \"craft\": \"ISS\"}, {\"name\": \"Pyotr Dubrov\", \"craft\": \"ISS\"}, {\"name\": \"Anton Shkaplerov\", \"craft\": \"ISS\"}, {\"name\": \"Zhai Zhigang\", \"craft\": \"Shenzhou 13\"}, {\"name\": \"Wang Yaping\", \"craft\": \"Shenzhou 13\"}, {\"name\": \"Ye Guangfu\", \"craft\": \"Shenzhou 13\"}, {\"name\": \"Raja Chari\", \"craft\": \"ISS\"}, {\"name\": \"Tom Marshburn\", \"craft\": \"ISS\"}, {\"name\": \"Kayla Barron\", \"craft\": \"ISS\"}, {\"name\": \"Matthias Maurer\", \"craft\": \"ISS\"}], \"number\": 10}]\nIndex: []",
      "text/html": "<div>\n<style scoped>\n    .dataframe tbody tr th:only-of-type {\n        vertical-align: middle;\n    }\n\n    .dataframe tbody tr th {\n        vertical-align: top;\n    }\n\n    .dataframe thead th {\n        text-align: right;\n    }\n</style>\n<table border=\"1\" class=\"dataframe\">\n  <thead>\n    <tr style=\"text-align: right;\">\n      <th></th>\n      <th>{\"message\": \"success\", \"people\": [{\"name\": \"Mark Vande Hei\", \"craft\": \"ISS\"}, {\"name\": \"Pyotr Dubrov\", \"craft\": \"ISS\"}, {\"name\": \"Anton Shkaplerov\", \"craft\": \"ISS\"}, {\"name\": \"Zhai Zhigang\", \"craft\": \"Shenzhou 13\"}, {\"name\": \"Wang Yaping\", \"craft\": \"Shenzhou 13\"}, {\"name\": \"Ye Guangfu\", \"craft\": \"Shenzhou 13\"}, {\"name\": \"Raja Chari\", \"craft\": \"ISS\"}, {\"name\": \"Tom Marshburn\", \"craft\": \"ISS\"}, {\"name\": \"Kayla Barron\", \"craft\": \"ISS\"}, {\"name\": \"Matthias Maurer\", \"craft\": \"ISS\"}], \"number\": 10}</th>\n    </tr>\n  </thead>\n  <tbody>\n  </tbody>\n</table>\n</div>"
     },
     "execution_count": 29,
     "metadata": {},
     "output_type": "execute_result"
    }
   ],
   "source": [
    "# Different delimiters - tab-separated file (.tsv):\n",
    "data = pd.read_csv(filepath, sep='\\t')\n",
    "data"
   ],
   "metadata": {
    "collapsed": false,
    "pycharm": {
     "name": "#%%\n"
    }
   }
  },
  {
   "cell_type": "code",
   "execution_count": 14,
   "outputs": [
    {
     "data": {
      "text/plain": "    sepal.length,\"sepal.width\",\"petal.length\",\"petal.width\",\"variety\"\n0                              5.1,3.5,1.4,.2,\"Setosa\"               \n1                                4.9,3,1.4,.2,\"Setosa\"               \n2                              4.7,3.2,1.3,.2,\"Setosa\"               \n3                              4.6,3.1,1.5,.2,\"Setosa\"               \n4                                5,3.6,1.4,.2,\"Setosa\"               \n..                                                 ...               \n145                          6.7,3,5.2,2.3,\"Virginica\"               \n146                          6.3,2.5,5,1.9,\"Virginica\"               \n147                            6.5,3,5.2,2,\"Virginica\"               \n148                        6.2,3.4,5.4,2.3,\"Virginica\"               \n149                          5.9,3,5.1,1.8,\"Virginica\"               \n\n[150 rows x 1 columns]",
      "text/html": "<div>\n<style scoped>\n    .dataframe tbody tr th:only-of-type {\n        vertical-align: middle;\n    }\n\n    .dataframe tbody tr th {\n        vertical-align: top;\n    }\n\n    .dataframe thead th {\n        text-align: right;\n    }\n</style>\n<table border=\"1\" class=\"dataframe\">\n  <thead>\n    <tr style=\"text-align: right;\">\n      <th></th>\n      <th>sepal.length,\"sepal.width\",\"petal.length\",\"petal.width\",\"variety\"</th>\n    </tr>\n  </thead>\n  <tbody>\n    <tr>\n      <th>0</th>\n      <td>5.1,3.5,1.4,.2,\"Setosa\"</td>\n    </tr>\n    <tr>\n      <th>1</th>\n      <td>4.9,3,1.4,.2,\"Setosa\"</td>\n    </tr>\n    <tr>\n      <th>2</th>\n      <td>4.7,3.2,1.3,.2,\"Setosa\"</td>\n    </tr>\n    <tr>\n      <th>3</th>\n      <td>4.6,3.1,1.5,.2,\"Setosa\"</td>\n    </tr>\n    <tr>\n      <th>4</th>\n      <td>5,3.6,1.4,.2,\"Setosa\"</td>\n    </tr>\n    <tr>\n      <th>...</th>\n      <td>...</td>\n    </tr>\n    <tr>\n      <th>145</th>\n      <td>6.7,3,5.2,2.3,\"Virginica\"</td>\n    </tr>\n    <tr>\n      <th>146</th>\n      <td>6.3,2.5,5,1.9,\"Virginica\"</td>\n    </tr>\n    <tr>\n      <th>147</th>\n      <td>6.5,3,5.2,2,\"Virginica\"</td>\n    </tr>\n    <tr>\n      <th>148</th>\n      <td>6.2,3.4,5.4,2.3,\"Virginica\"</td>\n    </tr>\n    <tr>\n      <th>149</th>\n      <td>5.9,3,5.1,1.8,\"Virginica\"</td>\n    </tr>\n  </tbody>\n</table>\n<p>150 rows × 1 columns</p>\n</div>"
     },
     "execution_count": 14,
     "metadata": {},
     "output_type": "execute_result"
    }
   ],
   "source": [
    "\n",
    "# space-separated file:\n",
    "data = pd.read_csv(filepath, delim_whitespace=True)\n",
    "data"
   ],
   "metadata": {
    "collapsed": false,
    "pycharm": {
     "name": "#%%\n"
    }
   }
  },
  {
   "cell_type": "code",
   "execution_count": 12,
   "outputs": [
    {
     "data": {
      "text/plain": "                0            1             2            3          4\n0    sepal.length  sepal.width  petal.length  petal.width    variety\n1             5.1          3.5           1.4           .2     Setosa\n2             4.9            3           1.4           .2     Setosa\n3             4.7          3.2           1.3           .2     Setosa\n4             4.6          3.1           1.5           .2     Setosa\n..            ...          ...           ...          ...        ...\n146           6.7            3           5.2          2.3  Virginica\n147           6.3          2.5             5          1.9  Virginica\n148           6.5            3           5.2            2  Virginica\n149           6.2          3.4           5.4          2.3  Virginica\n150           5.9            3           5.1          1.8  Virginica\n\n[151 rows x 5 columns]",
      "text/html": "<div>\n<style scoped>\n    .dataframe tbody tr th:only-of-type {\n        vertical-align: middle;\n    }\n\n    .dataframe tbody tr th {\n        vertical-align: top;\n    }\n\n    .dataframe thead th {\n        text-align: right;\n    }\n</style>\n<table border=\"1\" class=\"dataframe\">\n  <thead>\n    <tr style=\"text-align: right;\">\n      <th></th>\n      <th>0</th>\n      <th>1</th>\n      <th>2</th>\n      <th>3</th>\n      <th>4</th>\n    </tr>\n  </thead>\n  <tbody>\n    <tr>\n      <th>0</th>\n      <td>sepal.length</td>\n      <td>sepal.width</td>\n      <td>petal.length</td>\n      <td>petal.width</td>\n      <td>variety</td>\n    </tr>\n    <tr>\n      <th>1</th>\n      <td>5.1</td>\n      <td>3.5</td>\n      <td>1.4</td>\n      <td>.2</td>\n      <td>Setosa</td>\n    </tr>\n    <tr>\n      <th>2</th>\n      <td>4.9</td>\n      <td>3</td>\n      <td>1.4</td>\n      <td>.2</td>\n      <td>Setosa</td>\n    </tr>\n    <tr>\n      <th>3</th>\n      <td>4.7</td>\n      <td>3.2</td>\n      <td>1.3</td>\n      <td>.2</td>\n      <td>Setosa</td>\n    </tr>\n    <tr>\n      <th>4</th>\n      <td>4.6</td>\n      <td>3.1</td>\n      <td>1.5</td>\n      <td>.2</td>\n      <td>Setosa</td>\n    </tr>\n    <tr>\n      <th>...</th>\n      <td>...</td>\n      <td>...</td>\n      <td>...</td>\n      <td>...</td>\n      <td>...</td>\n    </tr>\n    <tr>\n      <th>146</th>\n      <td>6.7</td>\n      <td>3</td>\n      <td>5.2</td>\n      <td>2.3</td>\n      <td>Virginica</td>\n    </tr>\n    <tr>\n      <th>147</th>\n      <td>6.3</td>\n      <td>2.5</td>\n      <td>5</td>\n      <td>1.9</td>\n      <td>Virginica</td>\n    </tr>\n    <tr>\n      <th>148</th>\n      <td>6.5</td>\n      <td>3</td>\n      <td>5.2</td>\n      <td>2</td>\n      <td>Virginica</td>\n    </tr>\n    <tr>\n      <th>149</th>\n      <td>6.2</td>\n      <td>3.4</td>\n      <td>5.4</td>\n      <td>2.3</td>\n      <td>Virginica</td>\n    </tr>\n    <tr>\n      <th>150</th>\n      <td>5.9</td>\n      <td>3</td>\n      <td>5.1</td>\n      <td>1.8</td>\n      <td>Virginica</td>\n    </tr>\n  </tbody>\n</table>\n<p>151 rows × 5 columns</p>\n</div>"
     },
     "execution_count": 12,
     "metadata": {},
     "output_type": "execute_result"
    }
   ],
   "source": [
    "# not using the first row for column names:\n",
    "data = pd.read_csv(filepath, header=None)\n",
    "data"
   ],
   "metadata": {
    "collapsed": false,
    "pycharm": {
     "name": "#%%\n"
    }
   }
  },
  {
   "cell_type": "code",
   "execution_count": 15,
   "outputs": [
    {
     "data": {
      "text/plain": "            Name1        Name2         Name3        Name4      Name5\n0    sepal.length  sepal.width  petal.length  petal.width    variety\n1             5.1          3.5           1.4           .2     Setosa\n2             4.9            3           1.4           .2     Setosa\n3             4.7          3.2           1.3           .2     Setosa\n4             4.6          3.1           1.5           .2     Setosa\n..            ...          ...           ...          ...        ...\n146           6.7            3           5.2          2.3  Virginica\n147           6.3          2.5             5          1.9  Virginica\n148           6.5            3           5.2            2  Virginica\n149           6.2          3.4           5.4          2.3  Virginica\n150           5.9            3           5.1          1.8  Virginica\n\n[151 rows x 5 columns]",
      "text/html": "<div>\n<style scoped>\n    .dataframe tbody tr th:only-of-type {\n        vertical-align: middle;\n    }\n\n    .dataframe tbody tr th {\n        vertical-align: top;\n    }\n\n    .dataframe thead th {\n        text-align: right;\n    }\n</style>\n<table border=\"1\" class=\"dataframe\">\n  <thead>\n    <tr style=\"text-align: right;\">\n      <th></th>\n      <th>Name1</th>\n      <th>Name2</th>\n      <th>Name3</th>\n      <th>Name4</th>\n      <th>Name5</th>\n    </tr>\n  </thead>\n  <tbody>\n    <tr>\n      <th>0</th>\n      <td>sepal.length</td>\n      <td>sepal.width</td>\n      <td>petal.length</td>\n      <td>petal.width</td>\n      <td>variety</td>\n    </tr>\n    <tr>\n      <th>1</th>\n      <td>5.1</td>\n      <td>3.5</td>\n      <td>1.4</td>\n      <td>.2</td>\n      <td>Setosa</td>\n    </tr>\n    <tr>\n      <th>2</th>\n      <td>4.9</td>\n      <td>3</td>\n      <td>1.4</td>\n      <td>.2</td>\n      <td>Setosa</td>\n    </tr>\n    <tr>\n      <th>3</th>\n      <td>4.7</td>\n      <td>3.2</td>\n      <td>1.3</td>\n      <td>.2</td>\n      <td>Setosa</td>\n    </tr>\n    <tr>\n      <th>4</th>\n      <td>4.6</td>\n      <td>3.1</td>\n      <td>1.5</td>\n      <td>.2</td>\n      <td>Setosa</td>\n    </tr>\n    <tr>\n      <th>...</th>\n      <td>...</td>\n      <td>...</td>\n      <td>...</td>\n      <td>...</td>\n      <td>...</td>\n    </tr>\n    <tr>\n      <th>146</th>\n      <td>6.7</td>\n      <td>3</td>\n      <td>5.2</td>\n      <td>2.3</td>\n      <td>Virginica</td>\n    </tr>\n    <tr>\n      <th>147</th>\n      <td>6.3</td>\n      <td>2.5</td>\n      <td>5</td>\n      <td>1.9</td>\n      <td>Virginica</td>\n    </tr>\n    <tr>\n      <th>148</th>\n      <td>6.5</td>\n      <td>3</td>\n      <td>5.2</td>\n      <td>2</td>\n      <td>Virginica</td>\n    </tr>\n    <tr>\n      <th>149</th>\n      <td>6.2</td>\n      <td>3.4</td>\n      <td>5.4</td>\n      <td>2.3</td>\n      <td>Virginica</td>\n    </tr>\n    <tr>\n      <th>150</th>\n      <td>5.9</td>\n      <td>3</td>\n      <td>5.1</td>\n      <td>1.8</td>\n      <td>Virginica</td>\n    </tr>\n  </tbody>\n</table>\n<p>151 rows × 5 columns</p>\n</div>"
     },
     "execution_count": 15,
     "metadata": {},
     "output_type": "execute_result"
    }
   ],
   "source": [
    "# Specify column names:\n",
    "data = pd.read_csv(filepath, names=[\"Name1\", \"Name2\", \"Name3\", \"Name4\", \"Name5\"])\n",
    "data"
   ],
   "metadata": {
    "collapsed": false,
    "pycharm": {
     "name": "#%%\n"
    }
   }
  },
  {
   "cell_type": "code",
   "execution_count": 17,
   "outputs": [
    {
     "data": {
      "text/plain": "     sepal.length  sepal.width  petal.length  petal.width    variety\n0             5.1          3.5           1.4          0.2     Setosa\n1             4.9          3.0           1.4          0.2     Setosa\n2             4.7          3.2           1.3          0.2     Setosa\n3             4.6          3.1           1.5          0.2     Setosa\n4             5.0          3.6           1.4          0.2     Setosa\n..            ...          ...           ...          ...        ...\n145           6.7          3.0           5.2          2.3  Virginica\n146           6.3          2.5           5.0          1.9  Virginica\n147           6.5          3.0           5.2          2.0  Virginica\n148           6.2          3.4           5.4          2.3  Virginica\n149           5.9          3.0           5.1          1.8  Virginica\n\n[150 rows x 5 columns]",
      "text/html": "<div>\n<style scoped>\n    .dataframe tbody tr th:only-of-type {\n        vertical-align: middle;\n    }\n\n    .dataframe tbody tr th {\n        vertical-align: top;\n    }\n\n    .dataframe thead th {\n        text-align: right;\n    }\n</style>\n<table border=\"1\" class=\"dataframe\">\n  <thead>\n    <tr style=\"text-align: right;\">\n      <th></th>\n      <th>sepal.length</th>\n      <th>sepal.width</th>\n      <th>petal.length</th>\n      <th>petal.width</th>\n      <th>variety</th>\n    </tr>\n  </thead>\n  <tbody>\n    <tr>\n      <th>0</th>\n      <td>5.1</td>\n      <td>3.5</td>\n      <td>1.4</td>\n      <td>0.2</td>\n      <td>Setosa</td>\n    </tr>\n    <tr>\n      <th>1</th>\n      <td>4.9</td>\n      <td>3.0</td>\n      <td>1.4</td>\n      <td>0.2</td>\n      <td>Setosa</td>\n    </tr>\n    <tr>\n      <th>2</th>\n      <td>4.7</td>\n      <td>3.2</td>\n      <td>1.3</td>\n      <td>0.2</td>\n      <td>Setosa</td>\n    </tr>\n    <tr>\n      <th>3</th>\n      <td>4.6</td>\n      <td>3.1</td>\n      <td>1.5</td>\n      <td>0.2</td>\n      <td>Setosa</td>\n    </tr>\n    <tr>\n      <th>4</th>\n      <td>5.0</td>\n      <td>3.6</td>\n      <td>1.4</td>\n      <td>0.2</td>\n      <td>Setosa</td>\n    </tr>\n    <tr>\n      <th>...</th>\n      <td>...</td>\n      <td>...</td>\n      <td>...</td>\n      <td>...</td>\n      <td>...</td>\n    </tr>\n    <tr>\n      <th>145</th>\n      <td>6.7</td>\n      <td>3.0</td>\n      <td>5.2</td>\n      <td>2.3</td>\n      <td>Virginica</td>\n    </tr>\n    <tr>\n      <th>146</th>\n      <td>6.3</td>\n      <td>2.5</td>\n      <td>5.0</td>\n      <td>1.9</td>\n      <td>Virginica</td>\n    </tr>\n    <tr>\n      <th>147</th>\n      <td>6.5</td>\n      <td>3.0</td>\n      <td>5.2</td>\n      <td>2.0</td>\n      <td>Virginica</td>\n    </tr>\n    <tr>\n      <th>148</th>\n      <td>6.2</td>\n      <td>3.4</td>\n      <td>5.4</td>\n      <td>2.3</td>\n      <td>Virginica</td>\n    </tr>\n    <tr>\n      <th>149</th>\n      <td>5.9</td>\n      <td>3.0</td>\n      <td>5.1</td>\n      <td>1.8</td>\n      <td>Virginica</td>\n    </tr>\n  </tbody>\n</table>\n<p>150 rows × 5 columns</p>\n</div>"
     },
     "execution_count": 17,
     "metadata": {},
     "output_type": "execute_result"
    }
   ],
   "source": [
    "# Custom missing values:\n",
    "data = pd.read_csv(filepath, na_values=[\"NA\", 99])\n",
    "data"
   ],
   "metadata": {
    "collapsed": false,
    "pycharm": {
     "name": "#%%\n"
    }
   }
  },
  {
   "cell_type": "markdown",
   "source": [
    "### Reading JSON files\n",
    "meant to store lots of information in an easy to access manner,\n",
    "often used in NoSQL data bases and different APIs,\n",
    "similar structure to Python dicts"
   ],
   "metadata": {
    "collapsed": false,
    "pycharm": {
     "name": "#%% md\n"
    }
   }
  },
  {
   "cell_type": "code",
   "execution_count": 19,
   "outputs": [
    {
     "name": "stdout",
     "output_type": "stream",
     "text": [
      "--2021-11-13 14:07:16--  http://api.open-notify.org/astros.json\r\n",
      "Resolving api.open-notify.org (api.open-notify.org)... 138.68.39.196\r\n",
      "Connecting to api.open-notify.org (api.open-notify.org)|138.68.39.196|:80... connected.\r\n",
      "HTTP request sent, awaiting response... 200 OK\r\n",
      "Length: 497 [application/json]\r\n",
      "Saving to: ‘data/ppl_in_space.json’\r\n",
      "\r\n",
      "data/ppl_in_space.j 100%[===================>]     497  --.-KB/s    in 0s      \r\n",
      "\r\n",
      "2021-11-13 14:07:17 (56.1 MB/s) - ‘data/ppl_in_space.json’ saved [497/497]\r\n",
      "\r\n"
     ]
    }
   ],
   "source": [
    "!wget http://api.open-notify.org/astros.json -O data/ppl_in_space.json"
   ],
   "metadata": {
    "collapsed": false,
    "pycharm": {
     "name": "#%%\n"
    }
   }
  },
  {
   "cell_type": "code",
   "execution_count": 23,
   "outputs": [
    {
     "data": {
      "text/plain": "   message                                            people  number\n0  success        {'name': 'Mark Vande Hei', 'craft': 'ISS'}      10\n1  success          {'name': 'Pyotr Dubrov', 'craft': 'ISS'}      10\n2  success      {'name': 'Anton Shkaplerov', 'craft': 'ISS'}      10\n3  success  {'name': 'Zhai Zhigang', 'craft': 'Shenzhou 13'}      10\n4  success   {'name': 'Wang Yaping', 'craft': 'Shenzhou 13'}      10\n5  success    {'name': 'Ye Guangfu', 'craft': 'Shenzhou 13'}      10\n6  success            {'name': 'Raja Chari', 'craft': 'ISS'}      10\n7  success         {'name': 'Tom Marshburn', 'craft': 'ISS'}      10\n8  success          {'name': 'Kayla Barron', 'craft': 'ISS'}      10\n9  success       {'name': 'Matthias Maurer', 'craft': 'ISS'}      10",
      "text/html": "<div>\n<style scoped>\n    .dataframe tbody tr th:only-of-type {\n        vertical-align: middle;\n    }\n\n    .dataframe tbody tr th {\n        vertical-align: top;\n    }\n\n    .dataframe thead th {\n        text-align: right;\n    }\n</style>\n<table border=\"1\" class=\"dataframe\">\n  <thead>\n    <tr style=\"text-align: right;\">\n      <th></th>\n      <th>message</th>\n      <th>people</th>\n      <th>number</th>\n    </tr>\n  </thead>\n  <tbody>\n    <tr>\n      <th>0</th>\n      <td>success</td>\n      <td>{'name': 'Mark Vande Hei', 'craft': 'ISS'}</td>\n      <td>10</td>\n    </tr>\n    <tr>\n      <th>1</th>\n      <td>success</td>\n      <td>{'name': 'Pyotr Dubrov', 'craft': 'ISS'}</td>\n      <td>10</td>\n    </tr>\n    <tr>\n      <th>2</th>\n      <td>success</td>\n      <td>{'name': 'Anton Shkaplerov', 'craft': 'ISS'}</td>\n      <td>10</td>\n    </tr>\n    <tr>\n      <th>3</th>\n      <td>success</td>\n      <td>{'name': 'Zhai Zhigang', 'craft': 'Shenzhou 13'}</td>\n      <td>10</td>\n    </tr>\n    <tr>\n      <th>4</th>\n      <td>success</td>\n      <td>{'name': 'Wang Yaping', 'craft': 'Shenzhou 13'}</td>\n      <td>10</td>\n    </tr>\n    <tr>\n      <th>5</th>\n      <td>success</td>\n      <td>{'name': 'Ye Guangfu', 'craft': 'Shenzhou 13'}</td>\n      <td>10</td>\n    </tr>\n    <tr>\n      <th>6</th>\n      <td>success</td>\n      <td>{'name': 'Raja Chari', 'craft': 'ISS'}</td>\n      <td>10</td>\n    </tr>\n    <tr>\n      <th>7</th>\n      <td>success</td>\n      <td>{'name': 'Tom Marshburn', 'craft': 'ISS'}</td>\n      <td>10</td>\n    </tr>\n    <tr>\n      <th>8</th>\n      <td>success</td>\n      <td>{'name': 'Kayla Barron', 'craft': 'ISS'}</td>\n      <td>10</td>\n    </tr>\n    <tr>\n      <th>9</th>\n      <td>success</td>\n      <td>{'name': 'Matthias Maurer', 'craft': 'ISS'}</td>\n      <td>10</td>\n    </tr>\n  </tbody>\n</table>\n</div>"
     },
     "execution_count": 23,
     "metadata": {},
     "output_type": "execute_result"
    }
   ],
   "source": [
    "filepath = \"data/ppl_in_space.json\"\n",
    "# Read JSON file as dataframe\n",
    "data = pd.read_json(filepath)\n",
    "# TODO read documentation for more parsing\n",
    "\n",
    "# Write dataframe file to JSON\n",
    "data.to_json(\"data/outputfile.json\")\n",
    "data"
   ],
   "metadata": {
    "collapsed": false,
    "pycharm": {
     "name": "#%%\n"
    }
   }
  },
  {
   "cell_type": "markdown",
   "source": [
    "## SQL databases\n",
    "represents a set of relational databases with fixed schemas\n",
    "\n",
    "### Reading data with sqlite3"
   ],
   "metadata": {
    "collapsed": false,
    "pycharm": {
     "name": "#%% md\n"
    }
   }
  },
  {
   "cell_type": "code",
   "execution_count": 31,
   "outputs": [
    {
     "name": "stdout",
     "output_type": "stream",
     "text": [
      "<sqlite3.Connection object at 0x7f3045aca8a0>\n",
      " SELECT * FROM rock_songs;\n"
     ]
    },
    {
     "data": {
      "text/plain": "                                             Song        Artist  Release_Year  \\\n0                                Caught Up in You   .38 Special        1982.0   \n1                                 Hold On Loosely   .38 Special        1981.0   \n2                          Rockin' Into the Night   .38 Special        1980.0   \n3                               Art For Arts Sake          10cc        1975.0   \n4                                      Kryptonite  3 Doors Down        2000.0   \n...                                           ...           ...           ...   \n1645                            Sharp Dressed Man        ZZ Top        1983.0   \n1646                            Tube Snake Boogie        ZZ Top        1981.0   \n1647                                         Tush        ZZ Top        1975.0   \n1648                                   TV Dinners        ZZ Top        1983.0   \n1649  WAITIN' FOR THE BUS/JESUS JUST LEFT CHICAGO        ZZ Top        1973.0   \n\n      PlayCount  \n0            82  \n1            85  \n2            18  \n3             1  \n4            13  \n...         ...  \n1645        120  \n1646         32  \n1647        109  \n1648          1  \n1649          2  \n\n[1650 rows x 4 columns]",
      "text/html": "<div>\n<style scoped>\n    .dataframe tbody tr th:only-of-type {\n        vertical-align: middle;\n    }\n\n    .dataframe tbody tr th {\n        vertical-align: top;\n    }\n\n    .dataframe thead th {\n        text-align: right;\n    }\n</style>\n<table border=\"1\" class=\"dataframe\">\n  <thead>\n    <tr style=\"text-align: right;\">\n      <th></th>\n      <th>Song</th>\n      <th>Artist</th>\n      <th>Release_Year</th>\n      <th>PlayCount</th>\n    </tr>\n  </thead>\n  <tbody>\n    <tr>\n      <th>0</th>\n      <td>Caught Up in You</td>\n      <td>.38 Special</td>\n      <td>1982.0</td>\n      <td>82</td>\n    </tr>\n    <tr>\n      <th>1</th>\n      <td>Hold On Loosely</td>\n      <td>.38 Special</td>\n      <td>1981.0</td>\n      <td>85</td>\n    </tr>\n    <tr>\n      <th>2</th>\n      <td>Rockin' Into the Night</td>\n      <td>.38 Special</td>\n      <td>1980.0</td>\n      <td>18</td>\n    </tr>\n    <tr>\n      <th>3</th>\n      <td>Art For Arts Sake</td>\n      <td>10cc</td>\n      <td>1975.0</td>\n      <td>1</td>\n    </tr>\n    <tr>\n      <th>4</th>\n      <td>Kryptonite</td>\n      <td>3 Doors Down</td>\n      <td>2000.0</td>\n      <td>13</td>\n    </tr>\n    <tr>\n      <th>...</th>\n      <td>...</td>\n      <td>...</td>\n      <td>...</td>\n      <td>...</td>\n    </tr>\n    <tr>\n      <th>1645</th>\n      <td>Sharp Dressed Man</td>\n      <td>ZZ Top</td>\n      <td>1983.0</td>\n      <td>120</td>\n    </tr>\n    <tr>\n      <th>1646</th>\n      <td>Tube Snake Boogie</td>\n      <td>ZZ Top</td>\n      <td>1981.0</td>\n      <td>32</td>\n    </tr>\n    <tr>\n      <th>1647</th>\n      <td>Tush</td>\n      <td>ZZ Top</td>\n      <td>1975.0</td>\n      <td>109</td>\n    </tr>\n    <tr>\n      <th>1648</th>\n      <td>TV Dinners</td>\n      <td>ZZ Top</td>\n      <td>1983.0</td>\n      <td>1</td>\n    </tr>\n    <tr>\n      <th>1649</th>\n      <td>WAITIN' FOR THE BUS/JESUS JUST LEFT CHICAGO</td>\n      <td>ZZ Top</td>\n      <td>1973.0</td>\n      <td>2</td>\n    </tr>\n  </tbody>\n</table>\n<p>1650 rows × 4 columns</p>\n</div>"
     },
     "execution_count": 31,
     "metadata": {},
     "output_type": "execute_result"
    }
   ],
   "source": [
    "# SQL Data Imports\n",
    "import sqlite3 as sq3\n",
    "import pandas as pd\n",
    "\n",
    "# Initialize path to SQLite database\n",
    "db_path = \"data/classic_rock.db\"\n",
    "\n",
    "# Create connection SQL database\n",
    "con = sq3.Connection(db_path)\n",
    "print(con)\n",
    "\n",
    "# Write query\n",
    "query = ''' SELECT * FROM rock_songs;'''\n",
    "print(query)\n",
    "\n",
    "# read into pandas by combining the query and the connetion\n",
    "data = pd.read_sql(query, con)\n",
    "data"
   ],
   "metadata": {
    "collapsed": false,
    "pycharm": {
     "name": "#%%\n"
    }
   }
  },
  {
   "cell_type": "markdown",
   "source": [
    "## NoSQL databases"
   ],
   "metadata": {
    "collapsed": false,
    "pycharm": {
     "name": "#%% md\n"
    }
   }
  }
 ],
 "metadata": {
  "kernelspec": {
   "display_name": "Python 3",
   "language": "python",
   "name": "python3"
  },
  "language_info": {
   "codemirror_mode": {
    "name": "ipython",
    "version": 2
   },
   "file_extension": ".py",
   "mimetype": "text/x-python",
   "name": "python",
   "nbconvert_exporter": "python",
   "pygments_lexer": "ipython2",
   "version": "2.7.6"
  }
 },
 "nbformat": 4,
 "nbformat_minor": 0
}